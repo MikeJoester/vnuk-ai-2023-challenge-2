{
  "cells": [
    {
      "cell_type": "markdown",
      "metadata": {
        "id": "Yn35xcSAbHMK"
      },
      "source": [
        "In this notebook we want to predict Bitcoin price using python and machin learning (LSTM network).\n",
        "\n",
        "So first of all we will import the libraries that we want to use in this notebook"
      ]
    },
    {
      "cell_type": "code",
      "execution_count": 9,
      "metadata": {
        "id": "Qc4-NLUMd4z9"
      },
      "outputs": [],
      "source": [
        "import math\n",
        "import pandas_datareader as dr\n",
        "import yfinance as yf\n",
        "import numpy as np\n",
        "import pandas as pd\n",
        "import tensorflow as tf\n",
        "from sklearn.preprocessing import MinMaxScaler\n",
        "from keras.models import Sequential\n",
        "from keras.layers import Dense, LSTM\n",
        "import matplotlib.pyplot as plt"
      ]
    },
    {
      "cell_type": "code",
      "execution_count": 10,
      "metadata": {
        "colab": {
          "base_uri": "https://localhost:8080/"
        },
        "id": "umnDAYnXeoq3",
        "outputId": "6a26efe6-80e5-4f13-fc32-b27d308eab8c"
      },
      "outputs": [
        {
          "name": "stdout",
          "output_type": "stream",
          "text": [
            "[*********************100%%**********************]  1 of 1 completed\n"
          ]
        }
      ],
      "source": [
        "# Data Frame did import from google colab.\n",
        "# You can upload the data frame on your google drive and mounting the drive with the google clab\n",
        "doge = yf.download('DOGE-USD', start='2017-09-11', end='2023-11-20')"
      ]
    },
    {
      "cell_type": "code",
      "execution_count": 11,
      "metadata": {
        "colab": {
          "base_uri": "https://localhost:8080/",
          "height": 237
        },
        "id": "yvdFEQiaDbyG",
        "outputId": "f20fb1a9-803c-4cc6-c59e-905389d3747f"
      },
      "outputs": [
        {
          "data": {
            "text/html": [
              "<div>\n",
              "<style scoped>\n",
              "    .dataframe tbody tr th:only-of-type {\n",
              "        vertical-align: middle;\n",
              "    }\n",
              "\n",
              "    .dataframe tbody tr th {\n",
              "        vertical-align: top;\n",
              "    }\n",
              "\n",
              "    .dataframe thead th {\n",
              "        text-align: right;\n",
              "    }\n",
              "</style>\n",
              "<table border=\"1\" class=\"dataframe\">\n",
              "  <thead>\n",
              "    <tr style=\"text-align: right;\">\n",
              "      <th></th>\n",
              "      <th>Open</th>\n",
              "      <th>High</th>\n",
              "      <th>Low</th>\n",
              "      <th>Close</th>\n",
              "      <th>Adj Close</th>\n",
              "      <th>Volume</th>\n",
              "    </tr>\n",
              "    <tr>\n",
              "      <th>Date</th>\n",
              "      <th></th>\n",
              "      <th></th>\n",
              "      <th></th>\n",
              "      <th></th>\n",
              "      <th></th>\n",
              "      <th></th>\n",
              "    </tr>\n",
              "  </thead>\n",
              "  <tbody>\n",
              "    <tr>\n",
              "      <th>2023-11-15</th>\n",
              "      <td>0.072456</td>\n",
              "      <td>0.076408</td>\n",
              "      <td>0.072419</td>\n",
              "      <td>0.076356</td>\n",
              "      <td>0.076356</td>\n",
              "      <td>503454120</td>\n",
              "    </tr>\n",
              "    <tr>\n",
              "      <th>2023-11-16</th>\n",
              "      <td>0.076353</td>\n",
              "      <td>0.082837</td>\n",
              "      <td>0.076047</td>\n",
              "      <td>0.079277</td>\n",
              "      <td>0.079277</td>\n",
              "      <td>1563730284</td>\n",
              "    </tr>\n",
              "    <tr>\n",
              "      <th>2023-11-17</th>\n",
              "      <td>0.079326</td>\n",
              "      <td>0.087061</td>\n",
              "      <td>0.079323</td>\n",
              "      <td>0.086304</td>\n",
              "      <td>0.086304</td>\n",
              "      <td>2031597493</td>\n",
              "    </tr>\n",
              "    <tr>\n",
              "      <th>2023-11-18</th>\n",
              "      <td>0.086327</td>\n",
              "      <td>0.086394</td>\n",
              "      <td>0.079829</td>\n",
              "      <td>0.080383</td>\n",
              "      <td>0.080383</td>\n",
              "      <td>1340580447</td>\n",
              "    </tr>\n",
              "    <tr>\n",
              "      <th>2023-11-19</th>\n",
              "      <td>0.080395</td>\n",
              "      <td>0.080598</td>\n",
              "      <td>0.077984</td>\n",
              "      <td>0.080576</td>\n",
              "      <td>0.080576</td>\n",
              "      <td>620299419</td>\n",
              "    </tr>\n",
              "  </tbody>\n",
              "</table>\n",
              "</div>"
            ],
            "text/plain": [
              "                Open      High       Low     Close  Adj Close      Volume\n",
              "Date                                                                     \n",
              "2023-11-15  0.072456  0.076408  0.072419  0.076356   0.076356   503454120\n",
              "2023-11-16  0.076353  0.082837  0.076047  0.079277   0.079277  1563730284\n",
              "2023-11-17  0.079326  0.087061  0.079323  0.086304   0.086304  2031597493\n",
              "2023-11-18  0.086327  0.086394  0.079829  0.080383   0.080383  1340580447\n",
              "2023-11-19  0.080395  0.080598  0.077984  0.080576   0.080576   620299419"
            ]
          },
          "execution_count": 11,
          "metadata": {},
          "output_type": "execute_result"
        }
      ],
      "source": [
        "doge.tail()"
      ]
    },
    {
      "cell_type": "code",
      "execution_count": 12,
      "metadata": {
        "colab": {
          "base_uri": "https://localhost:8080/",
          "height": 237
        },
        "id": "rSxRztxFDdHp",
        "outputId": "eca8a748-ceea-4a6c-e477-b09e746f25a1"
      },
      "outputs": [
        {
          "data": {
            "text/html": [
              "<div>\n",
              "<style scoped>\n",
              "    .dataframe tbody tr th:only-of-type {\n",
              "        vertical-align: middle;\n",
              "    }\n",
              "\n",
              "    .dataframe tbody tr th {\n",
              "        vertical-align: top;\n",
              "    }\n",
              "\n",
              "    .dataframe thead th {\n",
              "        text-align: right;\n",
              "    }\n",
              "</style>\n",
              "<table border=\"1\" class=\"dataframe\">\n",
              "  <thead>\n",
              "    <tr style=\"text-align: right;\">\n",
              "      <th></th>\n",
              "      <th>Open</th>\n",
              "      <th>High</th>\n",
              "      <th>Low</th>\n",
              "      <th>Close</th>\n",
              "      <th>Adj Close</th>\n",
              "      <th>Volume</th>\n",
              "    </tr>\n",
              "    <tr>\n",
              "      <th>Date</th>\n",
              "      <th></th>\n",
              "      <th></th>\n",
              "      <th></th>\n",
              "      <th></th>\n",
              "      <th></th>\n",
              "      <th></th>\n",
              "    </tr>\n",
              "  </thead>\n",
              "  <tbody>\n",
              "    <tr>\n",
              "      <th>2017-11-09</th>\n",
              "      <td>0.001207</td>\n",
              "      <td>0.001415</td>\n",
              "      <td>0.001181</td>\n",
              "      <td>0.001415</td>\n",
              "      <td>0.001415</td>\n",
              "      <td>6259550</td>\n",
              "    </tr>\n",
              "    <tr>\n",
              "      <th>2017-11-10</th>\n",
              "      <td>0.001421</td>\n",
              "      <td>0.001431</td>\n",
              "      <td>0.001125</td>\n",
              "      <td>0.001163</td>\n",
              "      <td>0.001163</td>\n",
              "      <td>4246520</td>\n",
              "    </tr>\n",
              "    <tr>\n",
              "      <th>2017-11-11</th>\n",
              "      <td>0.001146</td>\n",
              "      <td>0.001257</td>\n",
              "      <td>0.001141</td>\n",
              "      <td>0.001201</td>\n",
              "      <td>0.001201</td>\n",
              "      <td>2231080</td>\n",
              "    </tr>\n",
              "    <tr>\n",
              "      <th>2017-11-12</th>\n",
              "      <td>0.001189</td>\n",
              "      <td>0.001210</td>\n",
              "      <td>0.001002</td>\n",
              "      <td>0.001038</td>\n",
              "      <td>0.001038</td>\n",
              "      <td>3288960</td>\n",
              "    </tr>\n",
              "    <tr>\n",
              "      <th>2017-11-13</th>\n",
              "      <td>0.001046</td>\n",
              "      <td>0.001212</td>\n",
              "      <td>0.001019</td>\n",
              "      <td>0.001211</td>\n",
              "      <td>0.001211</td>\n",
              "      <td>2481270</td>\n",
              "    </tr>\n",
              "  </tbody>\n",
              "</table>\n",
              "</div>"
            ],
            "text/plain": [
              "                Open      High       Low     Close  Adj Close   Volume\n",
              "Date                                                                  \n",
              "2017-11-09  0.001207  0.001415  0.001181  0.001415   0.001415  6259550\n",
              "2017-11-10  0.001421  0.001431  0.001125  0.001163   0.001163  4246520\n",
              "2017-11-11  0.001146  0.001257  0.001141  0.001201   0.001201  2231080\n",
              "2017-11-12  0.001189  0.001210  0.001002  0.001038   0.001038  3288960\n",
              "2017-11-13  0.001046  0.001212  0.001019  0.001211   0.001211  2481270"
            ]
          },
          "execution_count": 12,
          "metadata": {},
          "output_type": "execute_result"
        }
      ],
      "source": [
        "doge.head()"
      ]
    },
    {
      "cell_type": "code",
      "execution_count": 13,
      "metadata": {
        "colab": {
          "base_uri": "https://localhost:8080/"
        },
        "id": "azulnhvUfKLk",
        "outputId": "531ce5e7-57b1-44e0-ed11-5be9717a5ddf"
      },
      "outputs": [
        {
          "data": {
            "text/plain": [
              "(2202, 6)"
            ]
          },
          "execution_count": 13,
          "metadata": {},
          "output_type": "execute_result"
        }
      ],
      "source": [
        "# Checking the shape of our original data frame\n",
        "doge.shape"
      ]
    },
    {
      "cell_type": "markdown",
      "metadata": {
        "id": "hBZl-CJzbHM4"
      },
      "source": [
        "Now let's plot our close price only. We wanna use the **dailty close price** of Bitcoin for our model in this notebook so we only plot **close price**"
      ]
    },
    {
      "cell_type": "code",
      "execution_count": 15,
      "metadata": {
        "colab": {
          "base_uri": "https://localhost:8080/",
          "height": 740
        },
        "id": "SAlqz9jSgJur",
        "outputId": "9ffda4ca-e7aa-4a53-ce21-df8554780e35"
      },
      "outputs": [
        {
          "data": {
            "image/png": "[encoded data removed]",
            "text/plain": [
              "<Figure size 1600x800 with 1 Axes>"
            ]
          },
          "metadata": {},
          "output_type": "display_data"
        }
      ],
      "source": [
        "#show DOGE close price\n",
        "plt.figure(figsize=(16,8))\n",
        "plt.title('Close Price', fontsize=24)\n",
        "plt.plot(doge['Close'])\n",
        "plt.xlabel('Data', fontsize=18)\n",
        "plt.ylabel('USD', fontsize=18)\n",
        "plt.show()\n"
      ]
    },
    {
      "cell_type": "markdown",
      "metadata": {
        "id": "04bkFtT3bHM-"
      },
      "source": [
        "So as we want to work only with Close Price, let's use `.filter` methode.\n",
        "then we will import the values of the close price column in `data` variable to `dataset` variable."
      ]
    },
    {
      "cell_type": "code",
      "execution_count": 16,
      "metadata": {
        "colab": {
          "base_uri": "https://localhost:8080/"
        },
        "id": "ojiqpYVxgrcM",
        "outputId": "7680cb94-f01e-4809-de1a-1f472b820581"
      },
      "outputs": [
        {
          "data": {
            "text/plain": [
              "1762"
            ]
          },
          "execution_count": 16,
          "metadata": {},
          "output_type": "execute_result"
        }
      ],
      "source": [
        "#Creat a new dataframe with only Close Price\n",
        "data = doge.filter(['Close'])\n",
        "#Convert the dataframe to numpy array\n",
        "dataset = data.values\n",
        "# Get the number of rows to train the model on. we need this number to create our train and test sets\n",
        "# math.ceil will round up the number\n",
        "training_data_len = math.ceil(len(dataset) * .8) # We are using %80 of the data for training\n",
        "training_data_len"
      ]
    },
    {
      "cell_type": "markdown",
      "metadata": {
        "id": "_n54s3m_bHNH"
      },
      "source": [
        "Now that we have our close price values in a seprated dataframe we can start normalization our data."
      ]
    },
    {
      "cell_type": "code",
      "execution_count": 17,
      "metadata": {
        "colab": {
          "base_uri": "https://localhost:8080/"
        },
        "id": "lcl_METPic74",
        "outputId": "4a5be28f-f0fa-406a-adc5-b1b4a8c199e8"
      },
      "outputs": [
        {
          "data": {
            "text/plain": [
              "array([[0.00055138],\n",
              "       [0.00018282],\n",
              "       [0.00023839],\n",
              "       ...,\n",
              "       [0.12470548],\n",
              "       [0.11604574],\n",
              "       [0.11632801]])"
            ]
          },
          "execution_count": 17,
          "metadata": {},
          "output_type": "execute_result"
        }
      ],
      "source": [
        "# Scale the data\n",
        "scaler = MinMaxScaler(feature_range=(0,1))\n",
        "scaled_data = scaler.fit_transform(dataset)\n",
        "scaled_data"
      ]
    },
    {
      "cell_type": "markdown",
      "metadata": {
        "id": "7ov1arsqbHNN"
      },
      "source": [
        "In this case, we can't use `train_test_split` function, because we need our train and test sets to be **Sequential Data**. LSTM network needs to have the *last output values* of network layer for the *input of the next layer* of network. So we can't use `train_test_split` and randomize our train/test data."
      ]
    },
    {
      "cell_type": "markdown",
      "metadata": {
        "id": "nzAJsEV3bHNP"
      },
      "source": [
        "Our model will predict the price by looking the last 60 days of price. this will help our model to predict a better price and not just a random number that would have less than %50 accuracy."
      ]
    },
    {
      "cell_type": "code",
      "execution_count": 19,
      "metadata": {
        "colab": {
          "base_uri": "https://localhost:8080/"
        },
        "id": "BIfiDHrIi7tj",
        "outputId": "0eeff30a-cd39-45d8-9704-d9daa25684ee"
      },
      "outputs": [
        {
          "name": "stdout",
          "output_type": "stream",
          "text": [
            "[array([0.00055138, 0.00018282, 0.00023839, 0.        , 0.00025302,\n",
            "       0.00021353, 0.00044023, 0.00051482, 0.0004022 , 0.00048995,\n",
            "       0.00049434, 0.00052067, 0.00051335, 0.0011481 , 0.00124755,\n",
            "       0.00127242, 0.00151227, 0.001445  , 0.00138942, 0.00193787,\n",
            "       0.00152397, 0.00152251, 0.00162343, 0.00162489, 0.00173312,\n",
            "       0.00208413, 0.00210753, 0.00237664, 0.00246   , 0.00254629,\n",
            "       0.00230936, 0.00220698, 0.00257408, 0.00331413, 0.00354375,\n",
            "       0.00390646, 0.00398398, 0.00715916, 0.00723375, 0.00789044,\n",
            "       0.00676866, 0.0082239 , 0.00934128, 0.00733613, 0.0090985 ,\n",
            "       0.01103345, 0.01154388, 0.0122459 , 0.01145759, 0.01089304,\n",
            "       0.01221665, 0.00997749, 0.01160384, 0.0115117 , 0.01185686,\n",
            "       0.01211281, 0.01258667, 0.01627668, 0.0202197 , 0.02347387])]\n",
            "[0.02048588688635134]\n",
            "\n"
          ]
        }
      ],
      "source": [
        "# Creat the training dataset\n",
        "train_data = scaled_data[0:training_data_len, :]\n",
        "# Split the data into X_train and y_train data sets\n",
        "X_train = []\n",
        "y_train = []\n",
        "\n",
        "for i in range(60, len(train_data)):\n",
        "  X_train.append(train_data[i-60: i, 0])\n",
        "  y_train.append(train_data[i, 0])\n",
        "\n",
        "\n",
        "  if i <= 60:\n",
        "    print(X_train)\n",
        "    print(y_train)\n",
        "    print()"
      ]
    },
    {
      "cell_type": "code",
      "execution_count": 20,
      "metadata": {
        "colab": {
          "base_uri": "https://localhost:8080/"
        },
        "id": "JqSfXUQ5j2yx",
        "outputId": "294b37e9-6383-4d52-8e1d-0f38ac1744f7"
      },
      "outputs": [
        {
          "data": {
            "text/plain": [
              "1702"
            ]
          },
          "execution_count": 20,
          "metadata": {},
          "output_type": "execute_result"
        }
      ],
      "source": [
        "len(X_train)"
      ]
    },
    {
      "cell_type": "markdown",
      "metadata": {
        "id": "ONEgfpqPbHNf"
      },
      "source": [
        "So now X_train has 2083 array which any of them contains 60 days of price in them and y_train contains 2083 days of price which is the price of the last 60 days."
      ]
    },
    {
      "cell_type": "markdown",
      "metadata": {
        "id": "wa1F_a3jbHNh"
      },
      "source": [
        "LSTM model needs the data to be an *array*. So here we will convert X_train and y_train to an array list."
      ]
    },
    {
      "cell_type": "code",
      "execution_count": 21,
      "metadata": {
        "id": "ygU7gtzCmqoA"
      },
      "outputs": [],
      "source": [
        "# Convert the X_train and y_train to numpy array\n",
        "X_train, y_train = np.array(X_train), np.array(y_train)"
      ]
    },
    {
      "cell_type": "code",
      "execution_count": 22,
      "metadata": {
        "colab": {
          "base_uri": "https://localhost:8080/"
        },
        "id": "seqGjikbpdcr",
        "outputId": "b053252e-70ad-4f39-8873-8010c6914d2a"
      },
      "outputs": [
        {
          "data": {
            "text/plain": [
              "(1702, 60)"
            ]
          },
          "execution_count": 22,
          "metadata": {},
          "output_type": "execute_result"
        }
      ],
      "source": [
        "X_train.shape"
      ]
    },
    {
      "cell_type": "markdown",
      "metadata": {
        "id": "MCrvRvDRbHNo"
      },
      "source": [
        "By the way, LSTM needs the data to be inputet by 3 dimension. So we will reshape X_train to a 3-dim array"
      ]
    },
    {
      "cell_type": "code",
      "execution_count": 23,
      "metadata": {
        "colab": {
          "base_uri": "https://localhost:8080/"
        },
        "id": "rEtyMTTVph-k",
        "outputId": "7a76916a-925c-46cb-c89c-519c96c4ef89"
      },
      "outputs": [
        {
          "data": {
            "text/plain": [
              "(1702, 60, 1)"
            ]
          },
          "execution_count": 23,
          "metadata": {},
          "output_type": "execute_result"
        }
      ],
      "source": [
        "# Reshape the data because LSTM needs 3 dim\n",
        "X_train = np.reshape(X_train, (X_train.shape[0], X_train.shape[1], 1)) # we make it like pros. it wanna say \"np.reshape(X_train, (2083, 60, 1))\"\n",
        "X_train.shape"
      ]
    },
    {
      "cell_type": "markdown",
      "metadata": {
        "id": "a5Alar7WbHNu"
      },
      "source": [
        "Now that we finish creating our train data, we can create our *test data* (Just like how we did with train data)."
      ]
    },
    {
      "cell_type": "code",
      "execution_count": 24,
      "metadata": {
        "id": "whGE8dMztIFs"
      },
      "outputs": [],
      "source": [
        "# Create the testing dataset\n",
        "# Create a new array containing scaled values from index 2083\n",
        "test_data = scaled_data[training_data_len - 60 : , :]\n",
        "\n",
        "#Create the data sets X_test and y_test\n",
        "X_test = []\n",
        "y_test = dataset[training_data_len : , :]\n",
        "for i in range(60, len(test_data)):\n",
        "  X_test.append(test_data[i-60 : i, 0])\n"
      ]
    },
    {
      "cell_type": "code",
      "execution_count": 25,
      "metadata": {
        "id": "NHyf40eBuWu2"
      },
      "outputs": [],
      "source": [
        "# Convert the data to a numpy array\n",
        "X_test = np.array(X_test)"
      ]
    },
    {
      "cell_type": "code",
      "execution_count": 26,
      "metadata": {
        "id": "3PMSbjj-uixm"
      },
      "outputs": [],
      "source": [
        "# Reshape the test data\n",
        "X_test = np.reshape(X_test, (X_test.shape[0], X_test.shape[1], 1))"
      ]
    },
    {
      "cell_type": "markdown",
      "metadata": {
        "id": "HNSLSoaEbHN6"
      },
      "source": [
        "Here we getting to the fun part, **Creating the model**\n",
        "\n",
        "We are using 2 layers of LSTM and 2 layers of Dense. Our first LSTM layer has `return_sequence=True` because our first and second layers are LSTM and we have to pass the output of the first layer to the second layer. (Again: **LSTM is a Network for Sequential Data**)"
      ]
    },
    {
      "cell_type": "markdown",
      "metadata": {
        "id": "QgU_5lGvbHN9"
      },
      "source": [
        "Our last layer only has one unit in it while we need only one number (one price) to predict."
      ]
    },
    {
      "cell_type": "code",
      "execution_count": 27,
      "metadata": {
        "id": "XIprJJt3rqfp"
      },
      "outputs": [],
      "source": [
        "# Build LSTM model\n",
        "tf.random.set_seed(42)\n",
        "\n",
        "model_1 = Sequential()\n",
        "model_1.add(LSTM(50, return_sequences=True, input_shape=(X_train.shape[1], 1))) # we made it like pros ;) , the simple form is \"input_shape(60, 1)\"\"\n",
        "model_1.add(LSTM(50, return_sequences=False))\n",
        "model_1.add(Dense(25))\n",
        "model_1.add(Dense(1))"
      ]
    },
    {
      "cell_type": "code",
      "execution_count": 28,
      "metadata": {
        "id": "L41jt-j2stvs"
      },
      "outputs": [],
      "source": [
        "# Compile the model\n",
        "model_1.compile(optimizer='adam', loss='mse')"
      ]
    },
    {
      "cell_type": "markdown",
      "metadata": {
        "id": "3BtTWX-mbHOC"
      },
      "source": [
        "We will store the steps of each epochs in `history` variable. We are doing this to ploting the loss and finding the best number of epochs to avoid overfiting training.\n",
        "\n",
        "Here we make a variable call `callback` which has the job to stop training the model whenever the *loss* is no longer decreasing.\n",
        "\n",
        "(for more detail check the [EarlyStopping](https://www.tensorflow.org/api_docs/python/tf/keras/callbacks/EarlyStopping) library)"
      ]
    },
    {
      "cell_type": "code",
      "execution_count": 29,
      "metadata": {
        "colab": {
          "base_uri": "https://localhost:8080/"
        },
        "id": "KHaKgides7gl",
        "outputId": "1f17830c-0663-4a05-e877-0ae8519ac1a5"
      },
      "outputs": [
        {
          "name": "stdout",
          "output_type": "stream",
          "text": [
            "Epoch 1/10\n",
            "1702/1702 [==============================] - 22s 12ms/step - loss: 0.0018\n",
            "Epoch 2/10\n",
            "1702/1702 [==============================] - 21s 12ms/step - loss: 0.0011\n",
            "Epoch 3/10\n",
            "1702/1702 [==============================] - 20s 12ms/step - loss: 6.9278e-04\n",
            "Epoch 4/10\n",
            "1702/1702 [==============================] - 20s 12ms/step - loss: 8.8317e-04\n",
            "Epoch 5/10\n",
            "1702/1702 [==============================] - 21s 12ms/step - loss: 6.4630e-04\n",
            "Epoch 6/10\n",
            "1702/1702 [==============================] - 21s 12ms/step - loss: 5.5317e-04\n",
            "Epoch 7/10\n",
            "1702/1702 [==============================] - 20s 12ms/step - loss: 7.1707e-04\n",
            "Epoch 8/10\n",
            "1702/1702 [==============================] - 20s 12ms/step - loss: 6.3806e-04\n",
            "Epoch 9/10\n",
            "1702/1702 [==============================] - 20s 12ms/step - loss: 5.6002e-04\n",
            "Epoch 10/10\n",
            "1702/1702 [==============================] - 20s 12ms/step - loss: 5.9715e-04\n"
          ]
        }
      ],
      "source": [
        "# Train the model\n",
        "callback = tf.keras.callbacks.EarlyStopping(monitor='loss', patience=2)\n",
        "history = model_1.fit(X_train, y_train, batch_size=1, epochs=10)"
      ]
    },
    {
      "cell_type": "code",
      "execution_count": 30,
      "metadata": {
        "colab": {
          "base_uri": "https://localhost:8080/"
        },
        "id": "1ZepSfoxbHOG",
        "outputId": "815adf79-ee39-4666-c4f2-5c08ee90caf8"
      },
      "outputs": [
        {
          "name": "stdout",
          "output_type": "stream",
          "text": [
            "14/14 [==============================] - 1s 7ms/step\n"
          ]
        },
        {
          "data": {
            "text/plain": [
              "440"
            ]
          },
          "execution_count": 30,
          "metadata": {},
          "output_type": "execute_result"
        }
      ],
      "source": [
        "# Get the model_1 predicted price values\n",
        "predictions_1 = model_1.predict(X_test)\n",
        "predictions_1 = scaler.inverse_transform(predictions_1)\n",
        "len(predictions_1)"
      ]
    },
    {
      "cell_type": "code",
      "execution_count": 31,
      "metadata": {
        "colab": {
          "base_uri": "https://localhost:8080/"
        },
        "id": "g_E89ly5bHOO",
        "outputId": "945ef0d4-b113-4bd6-b19e-bfbf2f118688"
      },
      "outputs": [
        {
          "data": {
            "text/plain": [
              "0.0013701665638522669"
            ]
          },
          "execution_count": 31,
          "metadata": {},
          "output_type": "execute_result"
        }
      ],
      "source": [
        "# Get the root mean squared error (RMSE) for model_1\n",
        "rmse = np.sqrt(np.mean(predictions_1 - y_test)**2)\n",
        "rmse"
      ]
    },
    {
      "cell_type": "code",
      "execution_count": 32,
      "metadata": {
        "colab": {
          "base_uri": "https://localhost:8080/",
          "height": 466
        },
        "id": "RKFbl-95B5_7",
        "outputId": "7eae7a0b-2203-4079-8010-1f7ccdcf08ac"
      },
      "outputs": [
        {
          "data": {
            "text/plain": [
              "Text(0.5, 0, 'epochs')"
            ]
          },
          "execution_count": 32,
          "metadata": {},
          "output_type": "execute_result"
        },
        {
          "data": {
            "image/png": "[encoded data removed]",
            "text/plain": [
              "<Figure size 640x480 with 1 Axes>"
            ]
          },
          "metadata": {},
          "output_type": "display_data"
        }
      ],
      "source": [
        "# Let's plot the history of model_1 and see what's going on\n",
        "historyForPlot = pd.DataFrame(history.history)\n",
        "historyForPlot.index += 1 # we plus 1 to the number of indexing so our epochs Plot picture will be counting from 1 not 0.\n",
        "historyForPlot.plot()\n",
        "plt.ylabel(\"loss\")\n",
        "plt.xlabel(\"epochs\")"
      ]
    },
    {
      "cell_type": "code",
      "execution_count": 33,
      "metadata": {
        "colab": {
          "base_uri": "https://localhost:8080/",
          "height": 583
        },
        "id": "tLKMhWEDvxjp",
        "outputId": "4e643d1d-c78d-49cd-bb22-8c3b1d415d9e"
      },
      "outputs": [
        {
          "name": "stderr",
          "output_type": "stream",
          "text": [
            "C:\\Users\\Dan\\AppData\\Local\\Temp\\ipykernel_14304\\1029654759.py:6: SettingWithCopyWarning: \n",
            "A value is trying to be set on a copy of a slice from a DataFrame.\n",
            "Try using .loc[row_indexer,col_indexer] = value instead\n",
            "\n",
            "See the caveats in the documentation: https://pandas.pydata.org/pandas-docs/stable/user_guide/indexing.html#returning-a-view-versus-a-copy\n",
            "  valid_1['Predictions'] = predictions_1\n"
          ]
        },
        {
          "data": {
            "text/plain": [
              "<matplotlib.legend.Legend at 0x2809b61acb0>"
            ]
          },
          "execution_count": 33,
          "metadata": {},
          "output_type": "execute_result"
        },
        {
          "data": {
            "image/png": "[encoded data removed]",
            "text/plain": [
              "<Figure size 1400x1000 with 1 Axes>"
            ]
          },
          "metadata": {},
          "output_type": "display_data"
        }
      ],
      "source": [
        "# Plot the data\n",
        "train = data[:training_data_len]\n",
        "\n",
        "#data for model_1\n",
        "valid_1 = data[training_data_len:]\n",
        "valid_1['Predictions'] = predictions_1\n",
        "\n",
        "# Visualized the data\n",
        "#model_1\n",
        "plt.figure(figsize=(14, 10))\n",
        "plt.subplot(2, 1, 1)\n",
        "plt.title('Model_1 with 10 epochs')\n",
        "plt.xlabel('Data', fontsize=18)\n",
        "plt.ylabel('Close Price USD', fontsize=18)\n",
        "plt.plot(train['Close'])\n",
        "plt.plot(valid_1[['Close', 'Predictions']])\n",
        "\n",
        "plt.legend(['Train', 'Valid', 'Predictions'], loc='upper left')"
      ]
    },
    {
      "cell_type": "code",
      "execution_count": 34,
      "metadata": {
        "colab": {
          "base_uri": "https://localhost:8080/"
        },
        "id": "DSvbogyxyJlT",
        "outputId": "703b0b69-23d4-43cb-80b1-c767ad9ff048"
      },
      "outputs": [
        {
          "name": "stdout",
          "output_type": "stream",
          "text": [
            "1/1 [==============================] - 0s 445ms/step\n",
            "[[0.07859389]]\n"
          ]
        }
      ],
      "source": [
        "#Get the last 60 day closing price values and convert the datadrame to an array\n",
        "last_60_days = data[-30:].values\n",
        "# Scale the data to be values between 0 and 1\n",
        "last_60_days_scaled = scaler.fit_transform(last_60_days)\n",
        "# create an empty list\n",
        "new_X_test = []\n",
        "# Append the past 60 days\n",
        "new_X_test.append(last_60_days_scaled)\n",
        "# Convert the X_test data set to a numpy array\n",
        "new_X_test = np.array(new_X_test)\n",
        "# Reshape the data\n",
        "new_X_test = np.reshape(new_X_test, (new_X_test.shape[0], new_X_test.shape[1], 1))\n",
        "# Get the predicted scaled price\n",
        "pred_price = model_1.predict(new_X_test)\n",
        "# Undo the scaling\n",
        "pred_price = scaler.inverse_transform(pred_price)\n",
        "print(pred_price)"
      ]
    },
    {
      "cell_type": "code",
      "execution_count": 35,
      "metadata": {},
      "outputs": [
        {
          "name": "stderr",
          "output_type": "stream",
          "text": [
            "c:\\Users\\Dan\\AppData\\Local\\Programs\\Python\\Python310\\lib\\site-packages\\keras\\src\\engine\\training.py:3000: UserWarning: You are saving your model as an HDF5 file via `model.save()`. This file format is considered legacy. We recommend using instead the native Keras format, e.g. `model.save('my_model.keras')`.\n",
            "  saving_api.save_model(\n"
          ]
        }
      ],
      "source": [
        "model_1.save(\"model_doge.h5\")"
      ]
    }
  ],
  "metadata": {
    "accelerator": "GPU",
    "colab": {
      "provenance": []
    },
    "kernelspec": {
      "display_name": "Python 3",
      "name": "python3"
    },
    "language_info": {
      "codemirror_mode": {
        "name": "ipython",
        "version": 3
      },
      "file_extension": ".py",
      "mimetype": "text/x-python",
      "name": "python",
      "nbconvert_exporter": "python",
      "pygments_lexer": "ipython3",
      "version": "3.10.11"
    }
  },
  "nbformat": 4,
  "nbformat_minor": 0
}
